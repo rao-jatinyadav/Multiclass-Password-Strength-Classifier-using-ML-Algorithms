{
  "cells": [
    {
      "cell_type": "markdown",
      "metadata": {
        "id": "0iuVx3z_aDu-"
      },
      "source": [
        "# Password Strength Classifier"
      ]
    },
    {
      "cell_type": "markdown",
      "source": [
        "Importing Python Libaries for\n",
        "\n",
        "*   Working on data sets (pandas)\n",
        "*   To perform wide varties of mathematical operations (numpy)\n",
        "*   Making statistical graphics (seaborn)\n",
        "*   Creating static, animated, and interactive visualizations (matplotlib)\n",
        "*   Making matplotlib work like MATLAB (matplotlib.pyplot)"
      ],
      "metadata": {
        "id": "cs0k2GwY6mqi"
      }
    },
    {
      "cell_type": "code",
      "execution_count": null,
      "metadata": {
        "id": "YhhHlf2EaDvE"
      },
      "outputs": [],
      "source": [
        "import pandas as pd\n",
        "import numpy as np\n",
        "import seaborn as sns\n",
        "import matplotlib as plt\n",
        "import matplotlib.pyplot as plt"
      ]
    },
    {
      "cell_type": "markdown",
      "source": [
        "Reading the data set used for making Machine Learning Model and filtering the unusable data"
      ],
      "metadata": {
        "id": "wOG_yzA_71yN"
      }
    },
    {
      "cell_type": "code",
      "execution_count": null,
      "metadata": {
        "colab": {
          "base_uri": "https://localhost:8080/"
        },
        "id": "-E6jkcN6aDvF",
        "outputId": "04faa4d1-8f9a-4e46-d60e-4d76626eabd0"
      },
      "outputs": [
        {
          "output_type": "stream",
          "name": "stderr",
          "text": [
            "<ipython-input-13-3ef0185164f7>:1: FutureWarning: In a future version of pandas all arguments of read_csv except for the argument 'filepath_or_buffer' will be keyword-only.\n",
            "  data=pd.read_csv('data.csv',',',error_bad_lines=False)\n",
            "<ipython-input-13-3ef0185164f7>:1: FutureWarning: The error_bad_lines argument has been deprecated and will be removed in a future version. Use on_bad_lines in the future.\n",
            "\n",
            "\n",
            "  data=pd.read_csv('data.csv',',',error_bad_lines=False)\n",
            "Skipping line 2810: expected 2 fields, saw 5\n",
            "Skipping line 4641: expected 2 fields, saw 5\n",
            "Skipping line 7171: expected 2 fields, saw 5\n",
            "Skipping line 11220: expected 2 fields, saw 5\n",
            "Skipping line 13809: expected 2 fields, saw 5\n",
            "Skipping line 14132: expected 2 fields, saw 5\n",
            "Skipping line 14293: expected 2 fields, saw 5\n",
            "Skipping line 14865: expected 2 fields, saw 5\n",
            "Skipping line 17419: expected 2 fields, saw 5\n",
            "Skipping line 22801: expected 2 fields, saw 5\n",
            "Skipping line 25001: expected 2 fields, saw 5\n",
            "Skipping line 26603: expected 2 fields, saw 5\n",
            "Skipping line 26742: expected 2 fields, saw 5\n",
            "Skipping line 29702: expected 2 fields, saw 5\n",
            "Skipping line 32767: expected 2 fields, saw 5\n",
            "Skipping line 32878: expected 2 fields, saw 5\n",
            "Skipping line 35643: expected 2 fields, saw 5\n",
            "Skipping line 36550: expected 2 fields, saw 5\n",
            "Skipping line 38732: expected 2 fields, saw 5\n",
            "Skipping line 40567: expected 2 fields, saw 5\n",
            "Skipping line 40576: expected 2 fields, saw 5\n",
            "Skipping line 41864: expected 2 fields, saw 5\n",
            "Skipping line 46861: expected 2 fields, saw 5\n",
            "Skipping line 47939: expected 2 fields, saw 5\n",
            "Skipping line 48628: expected 2 fields, saw 5\n",
            "Skipping line 48908: expected 2 fields, saw 5\n",
            "Skipping line 57582: expected 2 fields, saw 5\n",
            "Skipping line 58782: expected 2 fields, saw 5\n",
            "Skipping line 58984: expected 2 fields, saw 5\n",
            "Skipping line 61518: expected 2 fields, saw 5\n",
            "Skipping line 63451: expected 2 fields, saw 5\n",
            "Skipping line 68141: expected 2 fields, saw 5\n",
            "Skipping line 72083: expected 2 fields, saw 5\n",
            "Skipping line 74027: expected 2 fields, saw 5\n",
            "Skipping line 77811: expected 2 fields, saw 5\n",
            "Skipping line 83958: expected 2 fields, saw 5\n",
            "Skipping line 85295: expected 2 fields, saw 5\n",
            "Skipping line 88665: expected 2 fields, saw 5\n",
            "Skipping line 89198: expected 2 fields, saw 5\n",
            "Skipping line 92499: expected 2 fields, saw 5\n",
            "Skipping line 92751: expected 2 fields, saw 5\n",
            "Skipping line 93689: expected 2 fields, saw 5\n",
            "Skipping line 94776: expected 2 fields, saw 5\n",
            "Skipping line 97334: expected 2 fields, saw 5\n",
            "Skipping line 102316: expected 2 fields, saw 5\n",
            "Skipping line 103421: expected 2 fields, saw 5\n",
            "Skipping line 106872: expected 2 fields, saw 5\n",
            "Skipping line 109363: expected 2 fields, saw 5\n",
            "Skipping line 110117: expected 2 fields, saw 5\n",
            "Skipping line 110465: expected 2 fields, saw 5\n",
            "Skipping line 113843: expected 2 fields, saw 5\n",
            "Skipping line 115634: expected 2 fields, saw 5\n",
            "Skipping line 121518: expected 2 fields, saw 5\n",
            "Skipping line 123692: expected 2 fields, saw 5\n",
            "Skipping line 124708: expected 2 fields, saw 5\n",
            "Skipping line 129608: expected 2 fields, saw 5\n",
            "Skipping line 133176: expected 2 fields, saw 5\n",
            "Skipping line 135532: expected 2 fields, saw 5\n",
            "Skipping line 138042: expected 2 fields, saw 5\n",
            "Skipping line 139485: expected 2 fields, saw 5\n",
            "Skipping line 140401: expected 2 fields, saw 5\n",
            "Skipping line 144093: expected 2 fields, saw 5\n",
            "Skipping line 149850: expected 2 fields, saw 5\n",
            "Skipping line 151831: expected 2 fields, saw 5\n",
            "Skipping line 158014: expected 2 fields, saw 5\n",
            "Skipping line 162047: expected 2 fields, saw 5\n",
            "Skipping line 164515: expected 2 fields, saw 5\n",
            "Skipping line 170313: expected 2 fields, saw 5\n",
            "Skipping line 171325: expected 2 fields, saw 5\n",
            "Skipping line 171424: expected 2 fields, saw 5\n",
            "Skipping line 175920: expected 2 fields, saw 5\n",
            "Skipping line 176210: expected 2 fields, saw 5\n",
            "Skipping line 183603: expected 2 fields, saw 5\n",
            "Skipping line 190264: expected 2 fields, saw 5\n",
            "Skipping line 191683: expected 2 fields, saw 5\n",
            "Skipping line 191988: expected 2 fields, saw 5\n",
            "Skipping line 195450: expected 2 fields, saw 5\n",
            "Skipping line 195754: expected 2 fields, saw 5\n",
            "Skipping line 197124: expected 2 fields, saw 5\n",
            "Skipping line 199263: expected 2 fields, saw 5\n",
            "Skipping line 202603: expected 2 fields, saw 5\n",
            "Skipping line 209960: expected 2 fields, saw 5\n",
            "Skipping line 213218: expected 2 fields, saw 5\n",
            "Skipping line 217060: expected 2 fields, saw 5\n",
            "Skipping line 220121: expected 2 fields, saw 5\n",
            "Skipping line 223518: expected 2 fields, saw 5\n",
            "Skipping line 226293: expected 2 fields, saw 5\n",
            "Skipping line 227035: expected 2 fields, saw 7\n",
            "Skipping line 227341: expected 2 fields, saw 5\n",
            "Skipping line 227808: expected 2 fields, saw 5\n",
            "Skipping line 228516: expected 2 fields, saw 5\n",
            "Skipping line 228733: expected 2 fields, saw 5\n",
            "Skipping line 232043: expected 2 fields, saw 5\n",
            "Skipping line 232426: expected 2 fields, saw 5\n",
            "Skipping line 234490: expected 2 fields, saw 5\n",
            "Skipping line 239626: expected 2 fields, saw 5\n",
            "Skipping line 240461: expected 2 fields, saw 5\n",
            "Skipping line 244518: expected 2 fields, saw 5\n",
            "Skipping line 245395: expected 2 fields, saw 5\n",
            "Skipping line 246168: expected 2 fields, saw 5\n",
            "Skipping line 246655: expected 2 fields, saw 5\n",
            "Skipping line 246752: expected 2 fields, saw 5\n",
            "Skipping line 247189: expected 2 fields, saw 5\n",
            "Skipping line 250276: expected 2 fields, saw 5\n",
            "Skipping line 255327: expected 2 fields, saw 5\n",
            "Skipping line 257094: expected 2 fields, saw 5\n",
            "\n",
            "Skipping line 264626: expected 2 fields, saw 5\n",
            "Skipping line 265028: expected 2 fields, saw 5\n",
            "Skipping line 269150: expected 2 fields, saw 5\n",
            "Skipping line 271360: expected 2 fields, saw 5\n",
            "Skipping line 273975: expected 2 fields, saw 5\n",
            "Skipping line 274742: expected 2 fields, saw 5\n",
            "Skipping line 276227: expected 2 fields, saw 5\n",
            "Skipping line 279807: expected 2 fields, saw 5\n",
            "Skipping line 283425: expected 2 fields, saw 5\n",
            "Skipping line 287468: expected 2 fields, saw 5\n",
            "Skipping line 292995: expected 2 fields, saw 5\n",
            "Skipping line 293496: expected 2 fields, saw 5\n",
            "Skipping line 293735: expected 2 fields, saw 5\n",
            "Skipping line 295060: expected 2 fields, saw 5\n",
            "Skipping line 296643: expected 2 fields, saw 5\n",
            "Skipping line 296848: expected 2 fields, saw 5\n",
            "Skipping line 308926: expected 2 fields, saw 5\n",
            "Skipping line 310360: expected 2 fields, saw 5\n",
            "Skipping line 317004: expected 2 fields, saw 5\n",
            "Skipping line 318207: expected 2 fields, saw 5\n",
            "Skipping line 331783: expected 2 fields, saw 5\n",
            "Skipping line 333864: expected 2 fields, saw 5\n",
            "Skipping line 335958: expected 2 fields, saw 5\n",
            "Skipping line 336290: expected 2 fields, saw 5\n",
            "Skipping line 343526: expected 2 fields, saw 5\n",
            "Skipping line 343857: expected 2 fields, saw 5\n",
            "Skipping line 344059: expected 2 fields, saw 5\n",
            "Skipping line 348691: expected 2 fields, saw 5\n",
            "Skipping line 353446: expected 2 fields, saw 5\n",
            "Skipping line 357073: expected 2 fields, saw 5\n",
            "Skipping line 359753: expected 2 fields, saw 5\n",
            "Skipping line 359974: expected 2 fields, saw 5\n",
            "Skipping line 366534: expected 2 fields, saw 5\n",
            "Skipping line 369514: expected 2 fields, saw 5\n",
            "Skipping line 377759: expected 2 fields, saw 5\n",
            "Skipping line 379327: expected 2 fields, saw 5\n",
            "Skipping line 380769: expected 2 fields, saw 5\n",
            "Skipping line 381073: expected 2 fields, saw 5\n",
            "Skipping line 381489: expected 2 fields, saw 5\n",
            "Skipping line 386304: expected 2 fields, saw 5\n",
            "Skipping line 387635: expected 2 fields, saw 5\n",
            "Skipping line 389613: expected 2 fields, saw 5\n",
            "Skipping line 392604: expected 2 fields, saw 5\n",
            "Skipping line 393184: expected 2 fields, saw 5\n",
            "Skipping line 395530: expected 2 fields, saw 5\n",
            "Skipping line 396939: expected 2 fields, saw 5\n",
            "Skipping line 397385: expected 2 fields, saw 5\n",
            "Skipping line 397509: expected 2 fields, saw 5\n",
            "Skipping line 402902: expected 2 fields, saw 5\n",
            "Skipping line 405187: expected 2 fields, saw 5\n",
            "Skipping line 408412: expected 2 fields, saw 5\n",
            "Skipping line 419423: expected 2 fields, saw 5\n",
            "Skipping line 420962: expected 2 fields, saw 5\n",
            "Skipping line 425965: expected 2 fields, saw 5\n",
            "Skipping line 427496: expected 2 fields, saw 5\n",
            "Skipping line 438881: expected 2 fields, saw 5\n",
            "Skipping line 439776: expected 2 fields, saw 5\n",
            "Skipping line 440345: expected 2 fields, saw 5\n",
            "Skipping line 445507: expected 2 fields, saw 5\n",
            "Skipping line 445548: expected 2 fields, saw 5\n",
            "Skipping line 447184: expected 2 fields, saw 5\n",
            "Skipping line 448603: expected 2 fields, saw 5\n",
            "Skipping line 451732: expected 2 fields, saw 5\n",
            "Skipping line 458249: expected 2 fields, saw 5\n",
            "Skipping line 460274: expected 2 fields, saw 5\n",
            "Skipping line 467630: expected 2 fields, saw 5\n",
            "Skipping line 473961: expected 2 fields, saw 5\n",
            "Skipping line 476281: expected 2 fields, saw 5\n",
            "Skipping line 478010: expected 2 fields, saw 5\n",
            "Skipping line 478322: expected 2 fields, saw 5\n",
            "Skipping line 479999: expected 2 fields, saw 5\n",
            "Skipping line 480898: expected 2 fields, saw 5\n",
            "Skipping line 481688: expected 2 fields, saw 5\n",
            "Skipping line 485193: expected 2 fields, saw 5\n",
            "Skipping line 485519: expected 2 fields, saw 5\n",
            "Skipping line 486000: expected 2 fields, saw 5\n",
            "Skipping line 489063: expected 2 fields, saw 5\n",
            "Skipping line 494525: expected 2 fields, saw 5\n",
            "Skipping line 495009: expected 2 fields, saw 5\n",
            "Skipping line 501954: expected 2 fields, saw 5\n",
            "Skipping line 508035: expected 2 fields, saw 5\n",
            "Skipping line 508828: expected 2 fields, saw 5\n",
            "Skipping line 509833: expected 2 fields, saw 5\n",
            "Skipping line 510410: expected 2 fields, saw 5\n",
            "Skipping line 518229: expected 2 fields, saw 5\n",
            "Skipping line 520302: expected 2 fields, saw 5\n",
            "Skipping line 520340: expected 2 fields, saw 5\n",
            "\n",
            "Skipping line 525174: expected 2 fields, saw 5\n",
            "Skipping line 526251: expected 2 fields, saw 5\n",
            "Skipping line 529611: expected 2 fields, saw 5\n",
            "Skipping line 531398: expected 2 fields, saw 5\n",
            "Skipping line 534146: expected 2 fields, saw 5\n",
            "Skipping line 544954: expected 2 fields, saw 5\n",
            "Skipping line 553002: expected 2 fields, saw 5\n",
            "Skipping line 553883: expected 2 fields, saw 5\n",
            "Skipping line 553887: expected 2 fields, saw 5\n",
            "Skipping line 553915: expected 2 fields, saw 5\n",
            "Skipping line 554172: expected 2 fields, saw 5\n",
            "Skipping line 563534: expected 2 fields, saw 5\n",
            "Skipping line 565191: expected 2 fields, saw 5\n",
            "Skipping line 574108: expected 2 fields, saw 5\n",
            "Skipping line 574412: expected 2 fields, saw 5\n",
            "Skipping line 575985: expected 2 fields, saw 5\n",
            "Skipping line 580091: expected 2 fields, saw 5\n",
            "Skipping line 582682: expected 2 fields, saw 5\n",
            "Skipping line 585885: expected 2 fields, saw 5\n",
            "Skipping line 590171: expected 2 fields, saw 5\n",
            "Skipping line 591924: expected 2 fields, saw 5\n",
            "Skipping line 592515: expected 2 fields, saw 5\n",
            "Skipping line 593888: expected 2 fields, saw 5\n",
            "Skipping line 596245: expected 2 fields, saw 5\n",
            "Skipping line 607344: expected 2 fields, saw 5\n",
            "Skipping line 607633: expected 2 fields, saw 5\n",
            "Skipping line 610939: expected 2 fields, saw 5\n",
            "Skipping line 613638: expected 2 fields, saw 5\n",
            "Skipping line 615643: expected 2 fields, saw 5\n",
            "Skipping line 615901: expected 2 fields, saw 5\n",
            "Skipping line 617389: expected 2 fields, saw 5\n",
            "Skipping line 634641: expected 2 fields, saw 5\n",
            "Skipping line 635755: expected 2 fields, saw 5\n",
            "Skipping line 646243: expected 2 fields, saw 5\n",
            "Skipping line 647165: expected 2 fields, saw 5\n",
            "Skipping line 648610: expected 2 fields, saw 5\n",
            "Skipping line 648772: expected 2 fields, saw 5\n",
            "Skipping line 651833: expected 2 fields, saw 5\n",
            "Skipping line 653663: expected 2 fields, saw 5\n",
            "Skipping line 656233: expected 2 fields, saw 5\n",
            "Skipping line 656694: expected 2 fields, saw 5\n",
            "Skipping line 659783: expected 2 fields, saw 5\n",
            "Skipping line 660478: expected 2 fields, saw 5\n",
            "Skipping line 661133: expected 2 fields, saw 5\n",
            "Skipping line 661736: expected 2 fields, saw 5\n",
            "Skipping line 669827: expected 2 fields, saw 5\n",
            "\n"
          ]
        }
      ],
      "source": [
        "data=pd.read_csv('data.csv',',',error_bad_lines=False)"
      ]
    },
    {
      "cell_type": "markdown",
      "source": [
        "Performing Data Cleaning and Preparation accompanied by Visualization"
      ],
      "metadata": {
        "id": "8PoWGSEI8FpQ"
      }
    },
    {
      "cell_type": "code",
      "execution_count": null,
      "metadata": {
        "colab": {
          "base_uri": "https://localhost:8080/",
          "height": 206
        },
        "id": "YxZaFLWAaDvG",
        "outputId": "b8d7b906-e642-44d2-df6d-8ff62071c586"
      },
      "outputs": [
        {
          "output_type": "execute_result",
          "data": {
            "text/plain": [
              "      password  strength\n",
              "0     kzde5577         1\n",
              "1     kino3434         1\n",
              "2    visi7k1yr         1\n",
              "3     megzy123         1\n",
              "4  lamborghin1         1"
            ],
            "text/html": [
              "\n",
              "  <div id=\"df-a4957aec-433e-442c-9b70-0b833bca4128\" class=\"colab-df-container\">\n",
              "    <div>\n",
              "<style scoped>\n",
              "    .dataframe tbody tr th:only-of-type {\n",
              "        vertical-align: middle;\n",
              "    }\n",
              "\n",
              "    .dataframe tbody tr th {\n",
              "        vertical-align: top;\n",
              "    }\n",
              "\n",
              "    .dataframe thead th {\n",
              "        text-align: right;\n",
              "    }\n",
              "</style>\n",
              "<table border=\"1\" class=\"dataframe\">\n",
              "  <thead>\n",
              "    <tr style=\"text-align: right;\">\n",
              "      <th></th>\n",
              "      <th>password</th>\n",
              "      <th>strength</th>\n",
              "    </tr>\n",
              "  </thead>\n",
              "  <tbody>\n",
              "    <tr>\n",
              "      <th>0</th>\n",
              "      <td>kzde5577</td>\n",
              "      <td>1</td>\n",
              "    </tr>\n",
              "    <tr>\n",
              "      <th>1</th>\n",
              "      <td>kino3434</td>\n",
              "      <td>1</td>\n",
              "    </tr>\n",
              "    <tr>\n",
              "      <th>2</th>\n",
              "      <td>visi7k1yr</td>\n",
              "      <td>1</td>\n",
              "    </tr>\n",
              "    <tr>\n",
              "      <th>3</th>\n",
              "      <td>megzy123</td>\n",
              "      <td>1</td>\n",
              "    </tr>\n",
              "    <tr>\n",
              "      <th>4</th>\n",
              "      <td>lamborghin1</td>\n",
              "      <td>1</td>\n",
              "    </tr>\n",
              "  </tbody>\n",
              "</table>\n",
              "</div>\n",
              "    <div class=\"colab-df-buttons\">\n",
              "\n",
              "  <div class=\"colab-df-container\">\n",
              "    <button class=\"colab-df-convert\" onclick=\"convertToInteractive('df-a4957aec-433e-442c-9b70-0b833bca4128')\"\n",
              "            title=\"Convert this dataframe to an interactive table.\"\n",
              "            style=\"display:none;\">\n",
              "\n",
              "  <svg xmlns=\"http://www.w3.org/2000/svg\" height=\"24px\" viewBox=\"0 -960 960 960\">\n",
              "    <path d=\"M120-120v-720h720v720H120Zm60-500h600v-160H180v160Zm220 220h160v-160H400v160Zm0 220h160v-160H400v160ZM180-400h160v-160H180v160Zm440 0h160v-160H620v160ZM180-180h160v-160H180v160Zm440 0h160v-160H620v160Z\"/>\n",
              "  </svg>\n",
              "    </button>\n",
              "\n",
              "  <style>\n",
              "    .colab-df-container {\n",
              "      display:flex;\n",
              "      gap: 12px;\n",
              "    }\n",
              "\n",
              "    .colab-df-convert {\n",
              "      background-color: #E8F0FE;\n",
              "      border: none;\n",
              "      border-radius: 50%;\n",
              "      cursor: pointer;\n",
              "      display: none;\n",
              "      fill: #1967D2;\n",
              "      height: 32px;\n",
              "      padding: 0 0 0 0;\n",
              "      width: 32px;\n",
              "    }\n",
              "\n",
              "    .colab-df-convert:hover {\n",
              "      background-color: #E2EBFA;\n",
              "      box-shadow: 0px 1px 2px rgba(60, 64, 67, 0.3), 0px 1px 3px 1px rgba(60, 64, 67, 0.15);\n",
              "      fill: #174EA6;\n",
              "    }\n",
              "\n",
              "    .colab-df-buttons div {\n",
              "      margin-bottom: 4px;\n",
              "    }\n",
              "\n",
              "    [theme=dark] .colab-df-convert {\n",
              "      background-color: #3B4455;\n",
              "      fill: #D2E3FC;\n",
              "    }\n",
              "\n",
              "    [theme=dark] .colab-df-convert:hover {\n",
              "      background-color: #434B5C;\n",
              "      box-shadow: 0px 1px 3px 1px rgba(0, 0, 0, 0.15);\n",
              "      filter: drop-shadow(0px 1px 2px rgba(0, 0, 0, 0.3));\n",
              "      fill: #FFFFFF;\n",
              "    }\n",
              "  </style>\n",
              "\n",
              "    <script>\n",
              "      const buttonEl =\n",
              "        document.querySelector('#df-a4957aec-433e-442c-9b70-0b833bca4128 button.colab-df-convert');\n",
              "      buttonEl.style.display =\n",
              "        google.colab.kernel.accessAllowed ? 'block' : 'none';\n",
              "\n",
              "      async function convertToInteractive(key) {\n",
              "        const element = document.querySelector('#df-a4957aec-433e-442c-9b70-0b833bca4128');\n",
              "        const dataTable =\n",
              "          await google.colab.kernel.invokeFunction('convertToInteractive',\n",
              "                                                    [key], {});\n",
              "        if (!dataTable) return;\n",
              "\n",
              "        const docLinkHtml = 'Like what you see? Visit the ' +\n",
              "          '<a target=\"_blank\" href=https://colab.research.google.com/notebooks/data_table.ipynb>data table notebook</a>'\n",
              "          + ' to learn more about interactive tables.';\n",
              "        element.innerHTML = '';\n",
              "        dataTable['output_type'] = 'display_data';\n",
              "        await google.colab.output.renderOutput(dataTable, element);\n",
              "        const docLink = document.createElement('div');\n",
              "        docLink.innerHTML = docLinkHtml;\n",
              "        element.appendChild(docLink);\n",
              "      }\n",
              "    </script>\n",
              "  </div>\n",
              "\n",
              "\n",
              "<div id=\"df-7b75be46-75e9-4b3d-907d-9d58311e0ec6\">\n",
              "  <button class=\"colab-df-quickchart\" onclick=\"quickchart('df-7b75be46-75e9-4b3d-907d-9d58311e0ec6')\"\n",
              "            title=\"Suggest charts\"\n",
              "            style=\"display:none;\">\n",
              "\n",
              "<svg xmlns=\"http://www.w3.org/2000/svg\" height=\"24px\"viewBox=\"0 0 24 24\"\n",
              "     width=\"24px\">\n",
              "    <g>\n",
              "        <path d=\"M19 3H5c-1.1 0-2 .9-2 2v14c0 1.1.9 2 2 2h14c1.1 0 2-.9 2-2V5c0-1.1-.9-2-2-2zM9 17H7v-7h2v7zm4 0h-2V7h2v10zm4 0h-2v-4h2v4z\"/>\n",
              "    </g>\n",
              "</svg>\n",
              "  </button>\n",
              "\n",
              "<style>\n",
              "  .colab-df-quickchart {\n",
              "      --bg-color: #E8F0FE;\n",
              "      --fill-color: #1967D2;\n",
              "      --hover-bg-color: #E2EBFA;\n",
              "      --hover-fill-color: #174EA6;\n",
              "      --disabled-fill-color: #AAA;\n",
              "      --disabled-bg-color: #DDD;\n",
              "  }\n",
              "\n",
              "  [theme=dark] .colab-df-quickchart {\n",
              "      --bg-color: #3B4455;\n",
              "      --fill-color: #D2E3FC;\n",
              "      --hover-bg-color: #434B5C;\n",
              "      --hover-fill-color: #FFFFFF;\n",
              "      --disabled-bg-color: #3B4455;\n",
              "      --disabled-fill-color: #666;\n",
              "  }\n",
              "\n",
              "  .colab-df-quickchart {\n",
              "    background-color: var(--bg-color);\n",
              "    border: none;\n",
              "    border-radius: 50%;\n",
              "    cursor: pointer;\n",
              "    display: none;\n",
              "    fill: var(--fill-color);\n",
              "    height: 32px;\n",
              "    padding: 0;\n",
              "    width: 32px;\n",
              "  }\n",
              "\n",
              "  .colab-df-quickchart:hover {\n",
              "    background-color: var(--hover-bg-color);\n",
              "    box-shadow: 0 1px 2px rgba(60, 64, 67, 0.3), 0 1px 3px 1px rgba(60, 64, 67, 0.15);\n",
              "    fill: var(--button-hover-fill-color);\n",
              "  }\n",
              "\n",
              "  .colab-df-quickchart-complete:disabled,\n",
              "  .colab-df-quickchart-complete:disabled:hover {\n",
              "    background-color: var(--disabled-bg-color);\n",
              "    fill: var(--disabled-fill-color);\n",
              "    box-shadow: none;\n",
              "  }\n",
              "\n",
              "  .colab-df-spinner {\n",
              "    border: 2px solid var(--fill-color);\n",
              "    border-color: transparent;\n",
              "    border-bottom-color: var(--fill-color);\n",
              "    animation:\n",
              "      spin 1s steps(1) infinite;\n",
              "  }\n",
              "\n",
              "  @keyframes spin {\n",
              "    0% {\n",
              "      border-color: transparent;\n",
              "      border-bottom-color: var(--fill-color);\n",
              "      border-left-color: var(--fill-color);\n",
              "    }\n",
              "    20% {\n",
              "      border-color: transparent;\n",
              "      border-left-color: var(--fill-color);\n",
              "      border-top-color: var(--fill-color);\n",
              "    }\n",
              "    30% {\n",
              "      border-color: transparent;\n",
              "      border-left-color: var(--fill-color);\n",
              "      border-top-color: var(--fill-color);\n",
              "      border-right-color: var(--fill-color);\n",
              "    }\n",
              "    40% {\n",
              "      border-color: transparent;\n",
              "      border-right-color: var(--fill-color);\n",
              "      border-top-color: var(--fill-color);\n",
              "    }\n",
              "    60% {\n",
              "      border-color: transparent;\n",
              "      border-right-color: var(--fill-color);\n",
              "    }\n",
              "    80% {\n",
              "      border-color: transparent;\n",
              "      border-right-color: var(--fill-color);\n",
              "      border-bottom-color: var(--fill-color);\n",
              "    }\n",
              "    90% {\n",
              "      border-color: transparent;\n",
              "      border-bottom-color: var(--fill-color);\n",
              "    }\n",
              "  }\n",
              "</style>\n",
              "\n",
              "  <script>\n",
              "    async function quickchart(key) {\n",
              "      const quickchartButtonEl =\n",
              "        document.querySelector('#' + key + ' button');\n",
              "      quickchartButtonEl.disabled = true;  // To prevent multiple clicks.\n",
              "      quickchartButtonEl.classList.add('colab-df-spinner');\n",
              "      try {\n",
              "        const charts = await google.colab.kernel.invokeFunction(\n",
              "            'suggestCharts', [key], {});\n",
              "      } catch (error) {\n",
              "        console.error('Error during call to suggestCharts:', error);\n",
              "      }\n",
              "      quickchartButtonEl.classList.remove('colab-df-spinner');\n",
              "      quickchartButtonEl.classList.add('colab-df-quickchart-complete');\n",
              "    }\n",
              "    (() => {\n",
              "      let quickchartButtonEl =\n",
              "        document.querySelector('#df-7b75be46-75e9-4b3d-907d-9d58311e0ec6 button');\n",
              "      quickchartButtonEl.style.display =\n",
              "        google.colab.kernel.accessAllowed ? 'block' : 'none';\n",
              "    })();\n",
              "  </script>\n",
              "</div>\n",
              "    </div>\n",
              "  </div>\n"
            ]
          },
          "metadata": {},
          "execution_count": 14
        }
      ],
      "source": [
        "data.head()"
      ]
    },
    {
      "cell_type": "code",
      "execution_count": null,
      "metadata": {
        "colab": {
          "base_uri": "https://localhost:8080/"
        },
        "id": "oE3n_rbTaDvH",
        "outputId": "aeadc4fd-e2df-4b9f-b2fe-e21604a7e4ca"
      },
      "outputs": [
        {
          "output_type": "execute_result",
          "data": {
            "text/plain": [
              "(669640, 2)"
            ]
          },
          "metadata": {},
          "execution_count": 15
        }
      ],
      "source": [
        "data.shape"
      ]
    },
    {
      "cell_type": "code",
      "execution_count": null,
      "metadata": {
        "colab": {
          "base_uri": "https://localhost:8080/"
        },
        "id": "halg-UIUaDvI",
        "outputId": "a041ee53-aa1b-4f40-e49c-bd969ad81321"
      },
      "outputs": [
        {
          "output_type": "execute_result",
          "data": {
            "text/plain": [
              "array(['kzde5577', 'kino3434', 'visi7k1yr', ..., '184520socram',\n",
              "       'marken22a', 'fxx4pw4g'], dtype=object)"
            ]
          },
          "metadata": {},
          "execution_count": 16
        }
      ],
      "source": [
        "data['password'].unique()"
      ]
    },
    {
      "cell_type": "code",
      "execution_count": null,
      "metadata": {
        "colab": {
          "base_uri": "https://localhost:8080/"
        },
        "id": "sS5BBYe4aDvI",
        "outputId": "8bd4ae0f-0abe-4354-cf51-e09a05000622"
      },
      "outputs": [
        {
          "output_type": "execute_result",
          "data": {
            "text/plain": [
              "password     True\n",
              "strength    False\n",
              "dtype: bool"
            ]
          },
          "metadata": {},
          "execution_count": 17
        }
      ],
      "source": [
        "data.isnull().any()"
      ]
    },
    {
      "cell_type": "code",
      "execution_count": null,
      "metadata": {
        "colab": {
          "base_uri": "https://localhost:8080/",
          "height": 447
        },
        "id": "g8rNqYuxaDvI",
        "outputId": "59fd5fd0-34cd-4da4-926c-10747c547b41"
      },
      "outputs": [
        {
          "output_type": "execute_result",
          "data": {
            "text/plain": [
              "<Axes: >"
            ]
          },
          "metadata": {},
          "execution_count": 18
        },
        {
          "output_type": "display_data",
          "data": {
            "text/plain": [
              "<Figure size 640x480 with 1 Axes>"
            ],
            "image/png": "[encoded data removed]"
          },
          "metadata": {}
        }
      ],
      "source": [
        "sns.heatmap(data.isnull(), yticklabels = False,xticklabels= 'auto', cbar = False ,cmap='summer')"
      ]
    },
    {
      "cell_type": "code",
      "execution_count": null,
      "metadata": {
        "id": "IO5gtcdoaDvJ"
      },
      "outputs": [],
      "source": [
        "#as password has null so delete it with out replacement\n",
        "data.dropna(inplace=True)"
      ]
    },
    {
      "cell_type": "code",
      "execution_count": null,
      "metadata": {
        "colab": {
          "base_uri": "https://localhost:8080/"
        },
        "id": "_CLjxKxPaDvJ",
        "outputId": "5f24b7c7-f725-440e-c62b-6a0686fbf468"
      },
      "outputs": [
        {
          "output_type": "execute_result",
          "data": {
            "text/plain": [
              "password    False\n",
              "strength    False\n",
              "dtype: bool"
            ]
          },
          "metadata": {},
          "execution_count": 20
        }
      ],
      "source": [
        "data.isnull().any()"
      ]
    },
    {
      "cell_type": "code",
      "execution_count": null,
      "metadata": {
        "colab": {
          "base_uri": "https://localhost:8080/"
        },
        "id": "oLZAd-fvaDvK",
        "outputId": "b8bf1d48-c59b-47c1-e559-d8953d1ec2b5"
      },
      "outputs": [
        {
          "output_type": "execute_result",
          "data": {
            "text/plain": [
              "(669639, 2)"
            ]
          },
          "metadata": {},
          "execution_count": 21
        }
      ],
      "source": [
        "data.shape"
      ]
    },
    {
      "cell_type": "code",
      "execution_count": null,
      "metadata": {
        "colab": {
          "base_uri": "https://localhost:8080/",
          "height": 466
        },
        "id": "fYiNLNMraDvK",
        "outputId": "9a4e9385-371a-4f7d-dde7-723d4f4812b0"
      },
      "outputs": [
        {
          "output_type": "execute_result",
          "data": {
            "text/plain": [
              "<Axes: xlabel='strength', ylabel='count'>"
            ]
          },
          "metadata": {},
          "execution_count": 22
        },
        {
          "output_type": "display_data",
          "data": {
            "text/plain": [
              "<Figure size 640x480 with 1 Axes>"
            ],
            "image/png": "[encoded data removed]"
          },
          "metadata": {}
        }
      ],
      "source": [
        "sns.set_style('whitegrid')\n",
        "sns.countplot( x='strength',data=data, palette='rainbow', edgecolor=(0, 0, 0))"
      ]
    },
    {
      "cell_type": "code",
      "execution_count": null,
      "metadata": {
        "id": "UvC4mDTYaDvK"
      },
      "outputs": [],
      "source": [
        "#into characetrs\n",
        "def character(input):\n",
        "    char=[]\n",
        "    for i in input:\n",
        "        char.append(i)\n",
        "    return char"
      ]
    },
    {
      "cell_type": "code",
      "execution_count": null,
      "metadata": {
        "id": "_dpQulPZaDvL"
      },
      "outputs": [],
      "source": [
        "X=character(data['password'])"
      ]
    },
    {
      "cell_type": "code",
      "execution_count": null,
      "metadata": {
        "colab": {
          "base_uri": "https://localhost:8080/"
        },
        "id": "EW-PXBN0aDvM",
        "outputId": "a80ad565-7755-4d3c-a79d-be53fde7ee13"
      },
      "outputs": [
        {
          "output_type": "stream",
          "name": "stderr",
          "text": [
            "/usr/local/lib/python3.10/dist-packages/sklearn/feature_extraction/text.py:528: UserWarning: The parameter 'token_pattern' will not be used since 'tokenizer' is not None'\n",
            "  warnings.warn(\n"
          ]
        }
      ],
      "source": [
        "from sklearn.feature_extraction.text import TfidfVectorizer\n",
        "vectorizer=TfidfVectorizer(tokenizer=character)\n",
        "X=vectorizer.fit_transform(X)"
      ]
    },
    {
      "cell_type": "code",
      "execution_count": null,
      "metadata": {
        "colab": {
          "base_uri": "https://localhost:8080/"
        },
        "id": "cZf7Zr_2aDvN",
        "outputId": "ed5e5e06-c1e5-444c-a37e-c2545c0b115e"
      },
      "outputs": [
        {
          "output_type": "execute_result",
          "data": {
            "text/plain": [
              "(669639, 153)"
            ]
          },
          "metadata": {},
          "execution_count": 26
        }
      ],
      "source": [
        "X.shape"
      ]
    },
    {
      "cell_type": "code",
      "execution_count": null,
      "metadata": {
        "colab": {
          "base_uri": "https://localhost:8080/"
        },
        "id": "cOvUcXfRaDvO",
        "outputId": "6ca8445a-5cc8-4658-aba9-8ae1a57a5fa7"
      },
      "outputs": [
        {
          "output_type": "execute_result",
          "data": {
            "text/plain": [
              "{'k': 66,\n",
              " 'z': 81,\n",
              " 'd': 59,\n",
              " 'e': 60,\n",
              " '5': 39,\n",
              " '7': 41,\n",
              " 'i': 64,\n",
              " 'n': 69,\n",
              " 'o': 70,\n",
              " '3': 37,\n",
              " '4': 38,\n",
              " 'v': 77,\n",
              " 's': 74,\n",
              " '1': 35,\n",
              " 'y': 80,\n",
              " 'r': 73,\n",
              " 'm': 68,\n",
              " 'g': 62,\n",
              " '2': 36,\n",
              " 'l': 67,\n",
              " 'a': 56,\n",
              " 'b': 57,\n",
              " 'h': 63,\n",
              " 'q': 72,\n",
              " 'f': 61,\n",
              " 't': 75,\n",
              " 'u': 76,\n",
              " '6': 40,\n",
              " 'c': 58,\n",
              " '8': 42,\n",
              " 'w': 78,\n",
              " '9': 43,\n",
              " '0': 34,\n",
              " 'j': 65,\n",
              " 'p': 71,\n",
              " '@': 49,\n",
              " '-': 31,\n",
              " 'x': 79,\n",
              " '.': 32,\n",
              " '>': 47,\n",
              " '&': 26,\n",
              " '?': 48,\n",
              " '<': 45,\n",
              " '!': 21,\n",
              " ';': 44,\n",
              " '_': 54,\n",
              " '%': 25,\n",
              " '±': 99,\n",
              " '\"': 22,\n",
              " '~': 85,\n",
              " '+': 30,\n",
              " '^': 53,\n",
              " '/': 33,\n",
              " '$': 24,\n",
              " ')': 28,\n",
              " ' ': 20,\n",
              " '(': 27,\n",
              " '#': 23,\n",
              " 'ú': 138,\n",
              " '*': 29,\n",
              " '`': 55,\n",
              " '{': 82,\n",
              " '}': 84,\n",
              " '[': 50,\n",
              " ']': 52,\n",
              " 'þ': 142,\n",
              " 'ó': 132,\n",
              " 'ô': 133,\n",
              " '=': 46,\n",
              " '\\\\': 51,\n",
              " '\\x1c': 17,\n",
              " '³': 101,\n",
              " '¿': 112,\n",
              " '\\x16': 12,\n",
              " 'ò': 131,\n",
              " '·': 105,\n",
              " '\\x1e': 19,\n",
              " '\\x19': 15,\n",
              " '\\x05': 3,\n",
              " '\\x1b': 16,\n",
              " 'å': 120,\n",
              " '‚': 147,\n",
              " 'ä': 119,\n",
              " 'à': 115,\n",
              " 'õ': 134,\n",
              " 'ß': 114,\n",
              " '´': 102,\n",
              " '«': 96,\n",
              " 'ð': 129,\n",
              " 'â': 117,\n",
              " '°': 98,\n",
              " '|': 83,\n",
              " '\\x7f': 86,\n",
              " '²': 100,\n",
              " '¾': 111,\n",
              " 'ÿ': 143,\n",
              " '\\x08': 5,\n",
              " 'ê': 125,\n",
              " 'á': 116,\n",
              " '\\x10': 8,\n",
              " '\\x17': 13,\n",
              " 'º': 107,\n",
              " '¡': 90,\n",
              " '÷': 136,\n",
              " 'í': 126,\n",
              " 'µ': 103,\n",
              " 'ý': 141,\n",
              " 'ü': 140,\n",
              " 'û': 139,\n",
              " 'ö': 135,\n",
              " '×': 113,\n",
              " '¨': 95,\n",
              " '\\xa0': 89,\n",
              " 'æ': 121,\n",
              " 'è': 123,\n",
              " 'ù': 137,\n",
              " 'é': 124,\n",
              " '\\x06': 4,\n",
              " 'ñ': 130,\n",
              " '\\x81': 87,\n",
              " '\\x11': 9,\n",
              " '—': 146,\n",
              " '›': 151,\n",
              " '‹': 150,\n",
              " 'œ': 144,\n",
              " '™': 152,\n",
              " '¦': 93,\n",
              " '\\x0f': 7,\n",
              " 'ï': 128,\n",
              " 'ç': 122,\n",
              " '\\x12': 10,\n",
              " '\\x8d': 88,\n",
              " 'î': 127,\n",
              " '¹': 106,\n",
              " '¶': 104,\n",
              " '¼': 109,\n",
              " '…': 149,\n",
              " '\\x13': 11,\n",
              " '\\x1d': 18,\n",
              " '\\x04': 2,\n",
              " '\\x0e': 6,\n",
              " '\\x02': 1,\n",
              " '¯': 97,\n",
              " '\\x01': 0,\n",
              " '‡': 148,\n",
              " '¤': 92,\n",
              " '¢': 91,\n",
              " 'ƒ': 145,\n",
              " '§': 94,\n",
              " 'ã': 118,\n",
              " '»': 108,\n",
              " '\\x18': 14,\n",
              " '½': 110}"
            ]
          },
          "metadata": {},
          "execution_count": 27
        }
      ],
      "source": [
        "vectorizer.vocabulary_"
      ]
    },
    {
      "cell_type": "code",
      "execution_count": null,
      "metadata": {
        "id": "yv7hcRGlaDvO"
      },
      "outputs": [],
      "source": [
        "y=data['strength']"
      ]
    },
    {
      "cell_type": "markdown",
      "source": [
        "Spliting arrays or matrices into random train and test subsets using scikit-learn"
      ],
      "metadata": {
        "id": "H3s1R5qLFozE"
      }
    },
    {
      "cell_type": "code",
      "execution_count": null,
      "metadata": {
        "id": "lSZ0GCibaDvO"
      },
      "outputs": [],
      "source": [
        "from sklearn.model_selection import train_test_split\n",
        "X_train, X_test, y_train, y_test = train_test_split(X, y, test_size=0.20, random_state=42)  #splitting\n"
      ]
    },
    {
      "cell_type": "markdown",
      "source": [
        "Downloading Kera which is a high-level, deep learning API developed by Google for implementing neural networks."
      ],
      "metadata": {
        "id": "lFLAaw9aFXJx"
      }
    },
    {
      "cell_type": "code",
      "execution_count": null,
      "metadata": {
        "id": "uE2d8sZ6aDvO"
      },
      "outputs": [],
      "source": [
        "!pip install -q keras"
      ]
    },
    {
      "cell_type": "code",
      "execution_count": null,
      "metadata": {
        "id": "dD4CyZPfaDvP"
      },
      "outputs": [],
      "source": [
        "import keras"
      ]
    },
    {
      "cell_type": "markdown",
      "source": [
        "Downloading TensorFlow platform which helps us implement best practices for data automation, model tracking, performance monitoring, and model retraining."
      ],
      "metadata": {
        "id": "BpxxzG7QF-wf"
      }
    },
    {
      "cell_type": "code",
      "execution_count": null,
      "metadata": {
        "id": "l67TqMIhaDvP",
        "colab": {
          "base_uri": "https://localhost:8080/"
        },
        "outputId": "d54950da-e47f-40ac-9dbf-4f4ee0ed2809"
      },
      "outputs": [
        {
          "output_type": "stream",
          "name": "stdout",
          "text": [
            "Requirement already satisfied: tensorflow in /usr/local/lib/python3.10/dist-packages (2.14.0)\n",
            "Requirement already satisfied: absl-py>=1.0.0 in /usr/local/lib/python3.10/dist-packages (from tensorflow) (1.4.0)\n",
            "Requirement already satisfied: astunparse>=1.6.0 in /usr/local/lib/python3.10/dist-packages (from tensorflow) (1.6.3)\n",
            "Requirement already satisfied: flatbuffers>=23.5.26 in /usr/local/lib/python3.10/dist-packages (from tensorflow) (23.5.26)\n",
            "Requirement already satisfied: gast!=0.5.0,!=0.5.1,!=0.5.2,>=0.2.1 in /usr/local/lib/python3.10/dist-packages (from tensorflow) (0.5.4)\n",
            "Requirement already satisfied: google-pasta>=0.1.1 in /usr/local/lib/python3.10/dist-packages (from tensorflow) (0.2.0)\n",
            "Requirement already satisfied: h5py>=2.9.0 in /usr/local/lib/python3.10/dist-packages (from tensorflow) (3.9.0)\n",
            "Requirement already satisfied: libclang>=13.0.0 in /usr/local/lib/python3.10/dist-packages (from tensorflow) (16.0.6)\n",
            "Requirement already satisfied: ml-dtypes==0.2.0 in /usr/local/lib/python3.10/dist-packages (from tensorflow) (0.2.0)\n",
            "Requirement already satisfied: numpy>=1.23.5 in /usr/local/lib/python3.10/dist-packages (from tensorflow) (1.23.5)\n",
            "Requirement already satisfied: opt-einsum>=2.3.2 in /usr/local/lib/python3.10/dist-packages (from tensorflow) (3.3.0)\n",
            "Requirement already satisfied: packaging in /usr/local/lib/python3.10/dist-packages (from tensorflow) (23.2)\n",
            "Requirement already satisfied: protobuf!=4.21.0,!=4.21.1,!=4.21.2,!=4.21.3,!=4.21.4,!=4.21.5,<5.0.0dev,>=3.20.3 in /usr/local/lib/python3.10/dist-packages (from tensorflow) (3.20.3)\n",
            "Requirement already satisfied: setuptools in /usr/local/lib/python3.10/dist-packages (from tensorflow) (67.7.2)\n",
            "Requirement already satisfied: six>=1.12.0 in /usr/local/lib/python3.10/dist-packages (from tensorflow) (1.16.0)\n",
            "Requirement already satisfied: termcolor>=1.1.0 in /usr/local/lib/python3.10/dist-packages (from tensorflow) (2.3.0)\n",
            "Requirement already satisfied: typing-extensions>=3.6.6 in /usr/local/lib/python3.10/dist-packages (from tensorflow) (4.5.0)\n",
            "Requirement already satisfied: wrapt<1.15,>=1.11.0 in /usr/local/lib/python3.10/dist-packages (from tensorflow) (1.14.1)\n",
            "Requirement already satisfied: tensorflow-io-gcs-filesystem>=0.23.1 in /usr/local/lib/python3.10/dist-packages (from tensorflow) (0.34.0)\n",
            "Requirement already satisfied: grpcio<2.0,>=1.24.3 in /usr/local/lib/python3.10/dist-packages (from tensorflow) (1.59.2)\n",
            "Requirement already satisfied: tensorboard<2.15,>=2.14 in /usr/local/lib/python3.10/dist-packages (from tensorflow) (2.14.1)\n",
            "Requirement already satisfied: tensorflow-estimator<2.15,>=2.14.0 in /usr/local/lib/python3.10/dist-packages (from tensorflow) (2.14.0)\n",
            "Requirement already satisfied: keras<2.15,>=2.14.0 in /usr/local/lib/python3.10/dist-packages (from tensorflow) (2.14.0)\n",
            "Requirement already satisfied: wheel<1.0,>=0.23.0 in /usr/local/lib/python3.10/dist-packages (from astunparse>=1.6.0->tensorflow) (0.41.3)\n",
            "Requirement already satisfied: google-auth<3,>=1.6.3 in /usr/local/lib/python3.10/dist-packages (from tensorboard<2.15,>=2.14->tensorflow) (2.17.3)\n",
            "Requirement already satisfied: google-auth-oauthlib<1.1,>=0.5 in /usr/local/lib/python3.10/dist-packages (from tensorboard<2.15,>=2.14->tensorflow) (1.0.0)\n",
            "Requirement already satisfied: markdown>=2.6.8 in /usr/local/lib/python3.10/dist-packages (from tensorboard<2.15,>=2.14->tensorflow) (3.5.1)\n",
            "Requirement already satisfied: requests<3,>=2.21.0 in /usr/local/lib/python3.10/dist-packages (from tensorboard<2.15,>=2.14->tensorflow) (2.31.0)\n",
            "Requirement already satisfied: tensorboard-data-server<0.8.0,>=0.7.0 in /usr/local/lib/python3.10/dist-packages (from tensorboard<2.15,>=2.14->tensorflow) (0.7.2)\n",
            "Requirement already satisfied: werkzeug>=1.0.1 in /usr/local/lib/python3.10/dist-packages (from tensorboard<2.15,>=2.14->tensorflow) (3.0.1)\n",
            "Requirement already satisfied: cachetools<6.0,>=2.0.0 in /usr/local/lib/python3.10/dist-packages (from google-auth<3,>=1.6.3->tensorboard<2.15,>=2.14->tensorflow) (5.3.2)\n",
            "Requirement already satisfied: pyasn1-modules>=0.2.1 in /usr/local/lib/python3.10/dist-packages (from google-auth<3,>=1.6.3->tensorboard<2.15,>=2.14->tensorflow) (0.3.0)\n",
            "Requirement already satisfied: rsa<5,>=3.1.4 in /usr/local/lib/python3.10/dist-packages (from google-auth<3,>=1.6.3->tensorboard<2.15,>=2.14->tensorflow) (4.9)\n",
            "Requirement already satisfied: requests-oauthlib>=0.7.0 in /usr/local/lib/python3.10/dist-packages (from google-auth-oauthlib<1.1,>=0.5->tensorboard<2.15,>=2.14->tensorflow) (1.3.1)\n",
            "Requirement already satisfied: charset-normalizer<4,>=2 in /usr/local/lib/python3.10/dist-packages (from requests<3,>=2.21.0->tensorboard<2.15,>=2.14->tensorflow) (3.3.2)\n",
            "Requirement already satisfied: idna<4,>=2.5 in /usr/local/lib/python3.10/dist-packages (from requests<3,>=2.21.0->tensorboard<2.15,>=2.14->tensorflow) (3.4)\n",
            "Requirement already satisfied: urllib3<3,>=1.21.1 in /usr/local/lib/python3.10/dist-packages (from requests<3,>=2.21.0->tensorboard<2.15,>=2.14->tensorflow) (2.0.7)\n",
            "Requirement already satisfied: certifi>=2017.4.17 in /usr/local/lib/python3.10/dist-packages (from requests<3,>=2.21.0->tensorboard<2.15,>=2.14->tensorflow) (2023.7.22)\n",
            "Requirement already satisfied: MarkupSafe>=2.1.1 in /usr/local/lib/python3.10/dist-packages (from werkzeug>=1.0.1->tensorboard<2.15,>=2.14->tensorflow) (2.1.3)\n",
            "Requirement already satisfied: pyasn1<0.6.0,>=0.4.6 in /usr/local/lib/python3.10/dist-packages (from pyasn1-modules>=0.2.1->google-auth<3,>=1.6.3->tensorboard<2.15,>=2.14->tensorflow) (0.5.0)\n",
            "Requirement already satisfied: oauthlib>=3.0.0 in /usr/local/lib/python3.10/dist-packages (from requests-oauthlib>=0.7.0->google-auth-oauthlib<1.1,>=0.5->tensorboard<2.15,>=2.14->tensorflow) (3.2.2)\n"
          ]
        }
      ],
      "source": [
        "!pip install tensorflow"
      ]
    },
    {
      "cell_type": "code",
      "execution_count": null,
      "metadata": {
        "id": "dPMqsJRXaDvP"
      },
      "outputs": [],
      "source": [
        "from keras.optimizers import Adam"
      ]
    },
    {
      "cell_type": "markdown",
      "source": [
        "Initializing neural network model, defining layers and optimizers & compling convolutional neural network"
      ],
      "metadata": {
        "id": "GVtsvQSWGo8Y"
      }
    },
    {
      "cell_type": "code",
      "execution_count": null,
      "metadata": {
        "colab": {
          "base_uri": "https://localhost:8080/"
        },
        "id": "d2HjDX1TaDvP",
        "outputId": "7852d60b-a127-4083-88b5-a777bacf88ab"
      },
      "outputs": [
        {
          "output_type": "stream",
          "name": "stdout",
          "text": [
            "Model: \"sequential_30\"\n",
            "_________________________________________________________________\n",
            " Layer (type)                Output Shape              Param #   \n",
            "=================================================================\n",
            " dense_83 (Dense)            (None, 76)                11704     \n",
            "                                                                 \n",
            " dropout_56 (Dropout)        (None, 76)                0         \n",
            "                                                                 \n",
            " dense_84 (Dense)            (None, 76)                5852      \n",
            "                                                                 \n",
            " dropout_57 (Dropout)        (None, 76)                0         \n",
            "                                                                 \n",
            " dense_85 (Dense)            (None, 3)                 231       \n",
            "                                                                 \n",
            "=================================================================\n",
            "Total params: 17787 (69.48 KB)\n",
            "Trainable params: 17787 (69.48 KB)\n",
            "Non-trainable params: 0 (0.00 Byte)\n",
            "_________________________________________________________________\n"
          ]
        }
      ],
      "source": [
        "import keras\n",
        "from keras.models import Sequential\n",
        "from keras.layers import Dense, Dropout, Flatten\n",
        "from keras.optimizers import SGD\n",
        "\n",
        "# Initialising the ANN\n",
        "classifier = Sequential()\n",
        "\n",
        "# Adding the input layer and the first hidden layer\n",
        "classifier.add(Dense(units = 76, kernel_initializer = 'he_uniform', activation = 'relu', input_dim =153))\n",
        "classifier.add(Dropout(0.4))\n",
        "# Adding the second hidden layer\n",
        "\n",
        "# Adding the second hidden layer\n",
        "classifier.add(Dense(units = 76, kernel_initializer = 'he_uniform', activation = 'relu'))\n",
        "classifier.add(Dropout(0.4))\n",
        "\n",
        "# Adding the output layer\n",
        "classifier.add(Dense(units = 3, kernel_initializer = 'he_uniform', activation = 'sigmoid'))\n",
        "\n",
        "\n",
        "# Compiling the CNN\n",
        "classifier.compile(loss ='sparse_categorical_crossentropy', optimizer=Adam(learning_rate=0.001),metrics =['accuracy'])\n",
        "classifier.summary()"
      ]
    },
    {
      "cell_type": "markdown",
      "source": [
        "Fitting data model for use on traing data & using data model for predictions of input samples and visualing it."
      ],
      "metadata": {
        "id": "R255FFW1HR1k"
      }
    },
    {
      "cell_type": "code",
      "execution_count": null,
      "metadata": {
        "colab": {
          "base_uri": "https://localhost:8080/"
        },
        "id": "FV_8uVunaDvP",
        "outputId": "ffbd5459-2772-450f-b4a0-802465115ff7"
      },
      "outputs": [
        {
          "output_type": "stream",
          "name": "stdout",
          "text": [
            "Epoch 1/20\n",
            "16741/16741 [==============================] - 47s 3ms/step - loss: 0.4172 - accuracy: 0.8117 - val_loss: 0.3319 - val_accuracy: 0.8421\n",
            "Epoch 2/20\n",
            "16741/16741 [==============================] - 53s 3ms/step - loss: 0.3566 - accuracy: 0.8314 - val_loss: 0.3100 - val_accuracy: 0.8468\n",
            "Epoch 3/20\n",
            "16741/16741 [==============================] - 58s 3ms/step - loss: 0.3425 - accuracy: 0.8367 - val_loss: 0.2945 - val_accuracy: 0.8596\n",
            "Epoch 4/20\n",
            "16741/16741 [==============================] - 55s 3ms/step - loss: 0.3319 - accuracy: 0.8441 - val_loss: 0.2763 - val_accuracy: 0.8745\n",
            "Epoch 5/20\n",
            "16741/16741 [==============================] - 62s 4ms/step - loss: 0.3195 - accuracy: 0.8551 - val_loss: 0.2645 - val_accuracy: 0.8888\n",
            "Epoch 6/20\n",
            "16741/16741 [==============================] - 60s 4ms/step - loss: 0.3097 - accuracy: 0.8626 - val_loss: 0.2650 - val_accuracy: 0.8909\n",
            "Epoch 7/20\n",
            "16741/16741 [==============================] - 77s 5ms/step - loss: 0.2999 - accuracy: 0.8705 - val_loss: 0.2432 - val_accuracy: 0.9034\n",
            "Epoch 8/20\n",
            "16741/16741 [==============================] - 68s 4ms/step - loss: 0.2948 - accuracy: 0.8741 - val_loss: 0.2428 - val_accuracy: 0.9032\n",
            "Epoch 9/20\n",
            "16741/16741 [==============================] - 68s 4ms/step - loss: 0.2901 - accuracy: 0.8759 - val_loss: 0.2416 - val_accuracy: 0.9040\n",
            "Epoch 10/20\n",
            "16741/16741 [==============================] - 64s 4ms/step - loss: 0.2837 - accuracy: 0.8785 - val_loss: 0.2274 - val_accuracy: 0.9123\n",
            "Epoch 11/20\n",
            "16741/16741 [==============================] - 64s 4ms/step - loss: 0.2813 - accuracy: 0.8803 - val_loss: 0.2312 - val_accuracy: 0.9084\n",
            "Epoch 12/20\n",
            "16741/16741 [==============================] - 65s 4ms/step - loss: 0.2801 - accuracy: 0.8821 - val_loss: 0.2243 - val_accuracy: 0.9118\n",
            "Epoch 13/20\n",
            "16741/16741 [==============================] - 67s 4ms/step - loss: 0.2778 - accuracy: 0.8822 - val_loss: 0.2345 - val_accuracy: 0.9057\n",
            "Epoch 14/20\n",
            "16741/16741 [==============================] - 60s 4ms/step - loss: 0.2768 - accuracy: 0.8839 - val_loss: 0.2317 - val_accuracy: 0.9075\n",
            "Epoch 15/20\n",
            "16741/16741 [==============================] - 58s 3ms/step - loss: 0.2740 - accuracy: 0.8846 - val_loss: 0.2334 - val_accuracy: 0.9052\n",
            "Epoch 16/20\n",
            "16741/16741 [==============================] - 61s 4ms/step - loss: 0.2730 - accuracy: 0.8852 - val_loss: 0.2336 - val_accuracy: 0.9023\n",
            "Epoch 17/20\n",
            "16741/16741 [==============================] - 59s 3ms/step - loss: 0.2714 - accuracy: 0.8868 - val_loss: 0.2267 - val_accuracy: 0.9098\n",
            "Epoch 18/20\n",
            "16741/16741 [==============================] - 64s 4ms/step - loss: 0.2701 - accuracy: 0.8881 - val_loss: 0.2256 - val_accuracy: 0.9116\n",
            "Epoch 19/20\n",
            "16741/16741 [==============================] - 65s 4ms/step - loss: 0.2693 - accuracy: 0.8893 - val_loss: 0.2211 - val_accuracy: 0.9126\n",
            "Epoch 20/20\n",
            "16741/16741 [==============================] - 68s 4ms/step - loss: 0.2651 - accuracy: 0.8911 - val_loss: 0.2243 - val_accuracy: 0.9100\n"
          ]
        },
        {
          "output_type": "execute_result",
          "data": {
            "text/plain": [
              "<keras.src.callbacks.History at 0x7e43f96b8520>"
            ]
          },
          "metadata": {},
          "execution_count": 108
        }
      ],
      "source": [
        "classifier.fit(X_train.toarray(), y_train,validation_data=(X_test.toarray(), y_test), epochs = 20)"
      ]
    },
    {
      "cell_type": "code",
      "execution_count": null,
      "metadata": {
        "colab": {
          "base_uri": "https://localhost:8080/"
        },
        "id": "3ExwbBQNaDvP",
        "outputId": "097756dd-448a-4dd6-c968-9128c2aef334"
      },
      "outputs": [
        {
          "output_type": "stream",
          "name": "stdout",
          "text": [
            "4186/4186 [==============================] - 12s 3ms/step\n"
          ]
        }
      ],
      "source": [
        "#y_pred = classifier.predict_classes(X_test)\n",
        "predict_x = classifier.predict(X_test.toarray())\n",
        "y_pred=np.argmax(predict_x,axis=1)"
      ]
    },
    {
      "cell_type": "code",
      "execution_count": null,
      "metadata": {
        "id": "KyF7nlFYaDvP"
      },
      "outputs": [],
      "source": [
        "from sklearn.metrics import confusion_matrix, classification_report, accuracy_score\n",
        "cm = confusion_matrix(y_test, y_pred)"
      ]
    },
    {
      "cell_type": "code",
      "execution_count": null,
      "metadata": {
        "colab": {
          "base_uri": "https://localhost:8080/",
          "height": 641
        },
        "id": "HyGCfB_4aDvQ",
        "outputId": "e6a0649c-a54f-4cbd-9fc0-3f46a9e4e940"
      },
      "outputs": [
        {
          "output_type": "display_data",
          "data": {
            "text/plain": [
              "<Figure size 1000x700 with 2 Axes>"
            ],
            "image/png": "[encoded data removed]"
          },
          "metadata": {}
        }
      ],
      "source": [
        "plt.figure(figsize=(10,7))\n",
        "p = sns.heatmap(cm, annot=True,fmt='g',cmap='copper')\n",
        "plt.title('Confusion Matrix ')\n",
        "plt.xlabel('Predicted Values')\n",
        "plt.ylabel('Actual Values')\n",
        "plt.show()"
      ]
    },
    {
      "cell_type": "code",
      "execution_count": null,
      "metadata": {
        "colab": {
          "base_uri": "https://localhost:8080/"
        },
        "id": "Z4KmU_CYaDvQ",
        "outputId": "8ca0f43f-9960-4566-bedc-53ddbcec1955"
      },
      "outputs": [
        {
          "output_type": "stream",
          "name": "stdout",
          "text": [
            "Accuracy: 89.05999999999999%\n"
          ]
        }
      ],
      "source": [
        "acc = round(accuracy_score(y_test, y_pred),4)*100\n",
        "print(\"Accuracy: {}%\".format(acc))"
      ]
    },
    {
      "cell_type": "markdown",
      "metadata": {
        "id": "rsSQNQJVaDvQ"
      },
      "source": [
        "Note: Accuracy can be improved if trained for higher number of epochs"
      ]
    },
    {
      "cell_type": "code",
      "execution_count": null,
      "metadata": {
        "colab": {
          "base_uri": "https://localhost:8080/"
        },
        "id": "Sk1qWmqXaDvQ",
        "outputId": "330c3069-c7dc-4be8-d7e8-6a8e19df1b84"
      },
      "outputs": [
        {
          "output_type": "stream",
          "name": "stdout",
          "text": [
            "              precision    recall  f1-score   support\n",
            "\n",
            "           0       0.73      0.90      0.81     17908\n",
            "           1       0.92      0.93      0.93     99519\n",
            "           2       0.91      0.64      0.75     16501\n",
            "\n",
            "    accuracy                           0.89    133928\n",
            "   macro avg       0.86      0.82      0.83    133928\n",
            "weighted avg       0.90      0.89      0.89    133928\n",
            "\n"
          ]
        }
      ],
      "source": [
        "print(classification_report(y_test, y_pred))"
      ]
    },
    {
      "cell_type": "code",
      "execution_count": null,
      "metadata": {
        "id": "swRvxIbjaDvQ",
        "outputId": "cb2253a7-433d-4e74-c6fa-c68868e843c1",
        "colab": {
          "base_uri": "https://localhost:8080/"
        }
      },
      "outputs": [
        {
          "output_type": "stream",
          "name": "stdout",
          "text": [
            "--Accuracy--\n",
            "0.8205976345499074\n"
          ]
        },
        {
          "output_type": "stream",
          "name": "stderr",
          "text": [
            "/usr/local/lib/python3.10/dist-packages/sklearn/linear_model/_logistic.py:458: ConvergenceWarning: lbfgs failed to converge (status=1):\n",
            "STOP: TOTAL NO. of ITERATIONS REACHED LIMIT.\n",
            "\n",
            "Increase the number of iterations (max_iter) or scale the data as shown in:\n",
            "    https://scikit-learn.org/stable/modules/preprocessing.html\n",
            "Please also refer to the documentation for alternative solver options:\n",
            "    https://scikit-learn.org/stable/modules/linear_model.html#logistic-regression\n",
            "  n_iter_i = _check_optimize_result(\n"
          ]
        }
      ],
      "source": [
        "from sklearn.linear_model import LogisticRegression\n",
        "from sklearn.model_selection import train_test_split\n",
        "X_train, X_test, y_train, y_test = train_test_split(X, y, test_size=0.20, random_state=42)  #splitting\n",
        "\n",
        "log_class=LogisticRegression()\n",
        "log_class.fit(X_train,y_train)\n",
        "print(\"--Accuracy--\")\n",
        "print(log_class.score(X_test,y_test))"
      ]
    },
    {
      "cell_type": "code",
      "execution_count": null,
      "metadata": {
        "id": "rFQGiXRBaDvR",
        "outputId": "5e2f3d10-e921-48f6-ffbb-2f27c609759f",
        "colab": {
          "base_uri": "https://localhost:8080/"
        }
      },
      "outputs": [
        {
          "output_type": "stream",
          "name": "stdout",
          "text": [
            "--Accuracy--\n",
            "0.9422898871035184\n"
          ]
        }
      ],
      "source": [
        "from sklearn.ensemble import RandomForestClassifier\n",
        "classifier = RandomForestClassifier(n_estimators = 10, criterion = 'entropy', random_state = 0)\n",
        "classifier.fit(X_train, y_train)\n",
        "print(\"--Accuracy--\")\n",
        "print(classifier.score(X_test,y_test))"
      ]
    },
    {
      "cell_type": "code",
      "execution_count": null,
      "metadata": {
        "id": "TSdAzomXaDvR"
      },
      "outputs": [],
      "source": [
        "y_pred = classifier.predict(X_test)\n",
        "from sklearn.metrics import confusion_matrix, classification_report, accuracy_score\n",
        "cm1 = confusion_matrix(y_test, y_pred)"
      ]
    },
    {
      "cell_type": "code",
      "execution_count": null,
      "metadata": {
        "id": "CmhJTCStaDvR",
        "outputId": "765ccf28-98f3-4338-9515-67aeb8862e26",
        "colab": {
          "base_uri": "https://localhost:8080/",
          "height": 641
        }
      },
      "outputs": [
        {
          "output_type": "display_data",
          "data": {
            "text/plain": [
              "<Figure size 1000x700 with 2 Axes>"
            ],
            "image/png": "[encoded data removed]"
          },
          "metadata": {}
        }
      ],
      "source": [
        "plt.figure(figsize=(10,7))\n",
        "p = sns.heatmap(cm1, annot=True,fmt='g',cmap='hot')\n",
        "plt.title('Confusion Matrix ')\n",
        "plt.xlabel('Predicted Values')\n",
        "plt.ylabel('Actual Values')\n",
        "plt.show()"
      ]
    },
    {
      "cell_type": "code",
      "execution_count": null,
      "metadata": {
        "id": "PZFGP8YeaDvR",
        "outputId": "24860af3-9121-4048-b45a-26bfaf3d55db",
        "colab": {
          "base_uri": "https://localhost:8080/"
        }
      },
      "outputs": [
        {
          "output_type": "stream",
          "name": "stdout",
          "text": [
            "[2]\n"
          ]
        }
      ],
      "source": [
        "X_predict=np.array([\"5%!tg3@an\"])\n",
        "X_predict=vectorizer.transform(X_predict)\n",
        "y_pred=classifier.predict(X_predict)\n",
        "print(y_pred)"
      ]
    },
    {
      "cell_type": "markdown",
      "metadata": {
        "id": "wQrFEzAmaDvS"
      },
      "source": [
        "###### Creating pickle file"
      ]
    },
    {
      "cell_type": "markdown",
      "source": [
        "Creating pickle files to load and dump the model created to be futher used for creating password strenght classifier"
      ],
      "metadata": {
        "id": "q6H96HbvGSSv"
      }
    },
    {
      "cell_type": "code",
      "execution_count": null,
      "metadata": {
        "id": "XV49LcnJaDvS"
      },
      "outputs": [],
      "source": [
        "import pickle"
      ]
    },
    {
      "cell_type": "code",
      "execution_count": null,
      "metadata": {
        "id": "EPVOo2QVaDvS"
      },
      "outputs": [],
      "source": [
        "pickle.dump(classifier, open(\"password-model.pkl\", 'wb'))"
      ]
    },
    {
      "cell_type": "code",
      "execution_count": null,
      "metadata": {
        "id": "4WnF_7LqaDvX"
      },
      "outputs": [],
      "source": [
        "pickle.dump(vectorizer, open(\"-transform.pkl\", 'wb'))"
      ]
    }
  ],
  "metadata": {
    "kernelspec": {
      "display_name": "Python 3",
      "language": "python",
      "name": "python3"
    },
    "language_info": {
      "codemirror_mode": {
        "name": "ipython",
        "version": 3
      },
      "file_extension": ".py",
      "mimetype": "text/x-python",
      "name": "python",
      "nbconvert_exporter": "python",
      "pygments_lexer": "ipython3",
      "version": "3.7.6"
    },
    "colab": {
      "provenance": []
    }
  },
  "nbformat": 4,
  "nbformat_minor": 0
}